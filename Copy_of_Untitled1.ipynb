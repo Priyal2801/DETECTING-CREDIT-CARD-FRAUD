{
  "nbformat": 4,
  "nbformat_minor": 5,
  "metadata": {
    "kernelspec": {
      "display_name": "Python 3",
      "language": "python",
      "name": "python3"
    },
    "language_info": {
      "codemirror_mode": {
        "name": "ipython",
        "version": 3
      },
      "file_extension": ".py",
      "mimetype": "text/x-python",
      "name": "python",
      "nbconvert_exporter": "python",
      "pygments_lexer": "ipython3",
      "version": "3.7.1"
    },
    "colab": {
      "name": "Copy of Untitled1.ipynb",
      "provenance": [],
      "include_colab_link": true
    }
  },
  "cells": [
    {
      "cell_type": "markdown",
      "metadata": {
        "id": "view-in-github",
        "colab_type": "text"
      },
      "source": [
        "<a href=\"https://colab.research.google.com/github/Priyal2801/DETECTING-CREDIT-CARD-FRAUD/blob/main/Copy_of_Untitled1.ipynb\" target=\"_parent\"><img src=\"https://colab.research.google.com/assets/colab-badge.svg\" alt=\"Open In Colab\"/></a>"
      ]
    },
    {
      "cell_type": "code",
      "metadata": {
        "id": "efficient-reunion"
      },
      "source": [
        "import wget\n",
        "import pandas as pd\n",
        "import numpy as np\n",
        "import matplotlib.pyplot as plt\n",
        "from sklearn.linear_model import LinearRegression\n",
        "from skmultiflow.drift_detection.adwin import ADWIN\n",
        "import os\n",
        "from datetime import datetime\n",
        "from scipy.integrate import romb\n",
        "from scipy.optimize import curve_fit"
      ],
      "id": "efficient-reunion",
      "execution_count": null,
      "outputs": []
    },
    {
      "cell_type": "markdown",
      "metadata": {
        "id": "mysterious-sharing"
      },
      "source": [
        "<h1>Importing Dependencies</h1>"
      ],
      "id": "mysterious-sharing"
    },
    {
      "cell_type": "markdown",
      "metadata": {
        "id": "improved-substitute"
      },
      "source": [
        "<h1>Downloading the Data and Creating the Dataset</h1>\n",
        "<p>In this section we first create an array of dates, then we feed them to our download function for downloading the file, that file is then fed to filter function for filtering and creating data sets. Then that file is deleted.</p>\n",
        "<p>Our study period is from 1st march 2020 to 1st April 2021. The data set is of two kinds, uptil 10th june 2020 the data for Indian states is not available, while from 10th june onwards we deal with state wise data</p>"
      ],
      "id": "improved-substitute"
    },
    {
      "cell_type": "markdown",
      "metadata": {
        "id": "finite-impossible"
      },
      "source": [
        "<p>for period 1st march 2020 to 10th june 2020</p>"
      ],
      "id": "finite-impossible"
    },
    {
      "cell_type": "code",
      "metadata": {
        "id": "adverse-disposal",
        "outputId": "4e38310a-401d-44a7-ac22-beec28d28526"
      },
      "source": [
        "url1 = \"https://raw.githubusercontent.com/CSSEGISandData/COVID-19/master/csse_covid_19_data/csse_covid_19_time_series/time_series_covid19_confirmed_global.csv\"\n",
        "wget.download(url1, 'covid_confirmed.csv')\n",
        "url2 = \"https://raw.githubusercontent.com/CSSEGISandData/COVID-19/master/csse_covid_19_data/csse_covid_19_time_series/time_series_covid19_recovered_global.csv\"\n",
        "wget.download(url2, 'covid_recovered.csv')\n",
        "url3 = \"https://raw.githubusercontent.com/CSSEGISandData/COVID-19/master/csse_covid_19_data/csse_covid_19_time_series/time_series_covid19_deaths_global.csv\"\n",
        "wget.download(url3, 'covid_death.csv')"
      ],
      "id": "adverse-disposal",
      "execution_count": null,
      "outputs": [
        {
          "output_type": "stream",
          "text": [
            "100% [............................................................................] 398600 / 398600"
          ],
          "name": "stdout"
        },
        {
          "output_type": "execute_result",
          "data": {
            "text/plain": [
              "'covid_death.csv'"
            ]
          },
          "metadata": {
            "tags": []
          },
          "execution_count": 137
        }
      ]
    },
    {
      "cell_type": "code",
      "metadata": {
        "id": "consolidated-shore"
      },
      "source": [
        "df = pd.read_csv('covid_confirmed.csv')\n",
        "dfr = pd.read_csv('covid_recovered.csv')\n",
        "dfd = pd.read_csv('covid_death.csv')"
      ],
      "id": "consolidated-shore",
      "execution_count": null,
      "outputs": []
    },
    {
      "cell_type": "code",
      "metadata": {
        "id": "plastic-optimization"
      },
      "source": [
        "def convertor(dates):\n",
        "    new = []\n",
        "    for date in dates:\n",
        "        new.append(date.strftime('%m-%d-%Y'))\n",
        "    return new"
      ],
      "id": "plastic-optimization",
      "execution_count": null,
      "outputs": []
    },
    {
      "cell_type": "code",
      "metadata": {
        "id": "reported-rendering"
      },
      "source": [
        "mydates = pd.date_range('2020-06-10','2021-03-01').tolist()\n",
        "dates = convertor(mydates)"
      ],
      "id": "reported-rendering",
      "execution_count": null,
      "outputs": []
    },
    {
      "cell_type": "code",
      "metadata": {
        "colab": {
          "base_uri": "https://localhost:8080/",
          "height": 229
        },
        "id": "lucky-wealth",
        "outputId": "768545c6-c14b-4df8-c403-5c2a9e62e04a"
      },
      "source": [
        "delhi = pd.DataFrame(columns = ['Date','Confirmed','Deaths','Recovered','Active'])\n",
        "for date in dates:\n",
        "    file = date + '.csv'\n",
        "    url = \"https://raw.githubusercontent.com/CSSEGISandData/COVID-19/master/csse_covid_19_data/csse_covid_19_daily_reports/\"+ file\n",
        "    wget.download(url,file)\n",
        "    a = pd.read_csv(file)\n",
        "    b = a[a['Province_State']=='Uttar Pradesh']\n",
        "    delhi.loc[len(delhi.index)] = [date,int(b['Confirmed']),int(b['Deaths']),int(b['Recovered']),int(b['Active'])]\n",
        "    os.remove(file)"
      ],
      "id": "lucky-wealth",
      "execution_count": null,
      "outputs": [
        {
          "output_type": "error",
          "ename": "NameError",
          "evalue": "ignored",
          "traceback": [
            "\u001b[0;31m---------------------------------------------------------------------------\u001b[0m",
            "\u001b[0;31mNameError\u001b[0m                                 Traceback (most recent call last)",
            "\u001b[0;32m<ipython-input-2-f979b1810e6d>\u001b[0m in \u001b[0;36m<module>\u001b[0;34m()\u001b[0m\n\u001b[0;32m----> 1\u001b[0;31m \u001b[0mdelhi\u001b[0m \u001b[0;34m=\u001b[0m \u001b[0mpd\u001b[0m\u001b[0;34m.\u001b[0m\u001b[0mDataFrame\u001b[0m\u001b[0;34m(\u001b[0m\u001b[0mcolumns\u001b[0m \u001b[0;34m=\u001b[0m \u001b[0;34m[\u001b[0m\u001b[0;34m'Date'\u001b[0m\u001b[0;34m,\u001b[0m\u001b[0;34m'Confirmed'\u001b[0m\u001b[0;34m,\u001b[0m\u001b[0;34m'Deaths'\u001b[0m\u001b[0;34m,\u001b[0m\u001b[0;34m'Recovered'\u001b[0m\u001b[0;34m,\u001b[0m\u001b[0;34m'Active'\u001b[0m\u001b[0;34m]\u001b[0m\u001b[0;34m)\u001b[0m\u001b[0;34m\u001b[0m\u001b[0;34m\u001b[0m\u001b[0m\n\u001b[0m\u001b[1;32m      2\u001b[0m \u001b[0;32mfor\u001b[0m \u001b[0mdate\u001b[0m \u001b[0;32min\u001b[0m \u001b[0mdates\u001b[0m\u001b[0;34m:\u001b[0m\u001b[0;34m\u001b[0m\u001b[0;34m\u001b[0m\u001b[0m\n\u001b[1;32m      3\u001b[0m     \u001b[0mfile\u001b[0m \u001b[0;34m=\u001b[0m \u001b[0mdate\u001b[0m \u001b[0;34m+\u001b[0m \u001b[0;34m'.csv'\u001b[0m\u001b[0;34m\u001b[0m\u001b[0;34m\u001b[0m\u001b[0m\n\u001b[1;32m      4\u001b[0m     \u001b[0murl\u001b[0m \u001b[0;34m=\u001b[0m \u001b[0;34m\"https://raw.githubusercontent.com/CSSEGISandData/COVID-19/master/csse_covid_19_data/csse_covid_19_daily_reports/\"\u001b[0m\u001b[0;34m+\u001b[0m \u001b[0mfile\u001b[0m\u001b[0;34m\u001b[0m\u001b[0;34m\u001b[0m\u001b[0m\n\u001b[1;32m      5\u001b[0m     \u001b[0mwget\u001b[0m\u001b[0;34m.\u001b[0m\u001b[0mdownload\u001b[0m\u001b[0;34m(\u001b[0m\u001b[0murl\u001b[0m\u001b[0;34m,\u001b[0m\u001b[0mfile\u001b[0m\u001b[0;34m)\u001b[0m\u001b[0;34m\u001b[0m\u001b[0;34m\u001b[0m\u001b[0m\n",
            "\u001b[0;31mNameError\u001b[0m: name 'pd' is not defined"
          ]
        }
      ]
    },
    {
      "cell_type": "code",
      "metadata": {
        "id": "spiritual-trout",
        "outputId": "03f5b249-04b2-4755-bce7-8adb2068b88e"
      },
      "source": [
        "delhi"
      ],
      "id": "spiritual-trout",
      "execution_count": null,
      "outputs": [
        {
          "output_type": "execute_result",
          "data": {
            "text/html": [
              "<div>\n",
              "<style scoped>\n",
              "    .dataframe tbody tr th:only-of-type {\n",
              "        vertical-align: middle;\n",
              "    }\n",
              "\n",
              "    .dataframe tbody tr th {\n",
              "        vertical-align: top;\n",
              "    }\n",
              "\n",
              "    .dataframe thead th {\n",
              "        text-align: right;\n",
              "    }\n",
              "</style>\n",
              "<table border=\"1\" class=\"dataframe\">\n",
              "  <thead>\n",
              "    <tr style=\"text-align: right;\">\n",
              "      <th></th>\n",
              "      <th>Date</th>\n",
              "      <th>Confirmed</th>\n",
              "      <th>Deaths</th>\n",
              "      <th>Recovered</th>\n",
              "      <th>Active</th>\n",
              "    </tr>\n",
              "  </thead>\n",
              "  <tbody>\n",
              "    <tr>\n",
              "      <th>0</th>\n",
              "      <td>06-10-2020</td>\n",
              "      <td>31309</td>\n",
              "      <td>905</td>\n",
              "      <td>11861</td>\n",
              "      <td>18543</td>\n",
              "    </tr>\n",
              "    <tr>\n",
              "      <th>1</th>\n",
              "      <td>06-11-2020</td>\n",
              "      <td>34687</td>\n",
              "      <td>1085</td>\n",
              "      <td>12731</td>\n",
              "      <td>20871</td>\n",
              "    </tr>\n",
              "    <tr>\n",
              "      <th>2</th>\n",
              "      <td>06-12-2020</td>\n",
              "      <td>34687</td>\n",
              "      <td>1085</td>\n",
              "      <td>12731</td>\n",
              "      <td>20871</td>\n",
              "    </tr>\n",
              "    <tr>\n",
              "      <th>3</th>\n",
              "      <td>06-13-2020</td>\n",
              "      <td>36824</td>\n",
              "      <td>1214</td>\n",
              "      <td>13398</td>\n",
              "      <td>22212</td>\n",
              "    </tr>\n",
              "    <tr>\n",
              "      <th>4</th>\n",
              "      <td>06-14-2020</td>\n",
              "      <td>38958</td>\n",
              "      <td>1271</td>\n",
              "      <td>14945</td>\n",
              "      <td>22742</td>\n",
              "    </tr>\n",
              "    <tr>\n",
              "      <th>...</th>\n",
              "      <td>...</td>\n",
              "      <td>...</td>\n",
              "      <td>...</td>\n",
              "      <td>...</td>\n",
              "      <td>...</td>\n",
              "    </tr>\n",
              "    <tr>\n",
              "      <th>260</th>\n",
              "      <td>02-25-2021</td>\n",
              "      <td>638593</td>\n",
              "      <td>10905</td>\n",
              "      <td>626519</td>\n",
              "      <td>1169</td>\n",
              "    </tr>\n",
              "    <tr>\n",
              "      <th>261</th>\n",
              "      <td>02-26-2021</td>\n",
              "      <td>638849</td>\n",
              "      <td>10906</td>\n",
              "      <td>626712</td>\n",
              "      <td>1231</td>\n",
              "    </tr>\n",
              "    <tr>\n",
              "      <th>262</th>\n",
              "      <td>02-27-2021</td>\n",
              "      <td>639092</td>\n",
              "      <td>10909</td>\n",
              "      <td>626876</td>\n",
              "      <td>1307</td>\n",
              "    </tr>\n",
              "    <tr>\n",
              "      <th>263</th>\n",
              "      <td>02-28-2021</td>\n",
              "      <td>639289</td>\n",
              "      <td>10910</td>\n",
              "      <td>627044</td>\n",
              "      <td>1335</td>\n",
              "    </tr>\n",
              "    <tr>\n",
              "      <th>264</th>\n",
              "      <td>03-01-2021</td>\n",
              "      <td>639464</td>\n",
              "      <td>10911</td>\n",
              "      <td>627149</td>\n",
              "      <td>1404</td>\n",
              "    </tr>\n",
              "  </tbody>\n",
              "</table>\n",
              "<p>265 rows × 5 columns</p>\n",
              "</div>"
            ],
            "text/plain": [
              "           Date Confirmed Deaths Recovered Active\n",
              "0    06-10-2020     31309    905     11861  18543\n",
              "1    06-11-2020     34687   1085     12731  20871\n",
              "2    06-12-2020     34687   1085     12731  20871\n",
              "3    06-13-2020     36824   1214     13398  22212\n",
              "4    06-14-2020     38958   1271     14945  22742\n",
              "..          ...       ...    ...       ...    ...\n",
              "260  02-25-2021    638593  10905    626519   1169\n",
              "261  02-26-2021    638849  10906    626712   1231\n",
              "262  02-27-2021    639092  10909    626876   1307\n",
              "263  02-28-2021    639289  10910    627044   1335\n",
              "264  03-01-2021    639464  10911    627149   1404\n",
              "\n",
              "[265 rows x 5 columns]"
            ]
          },
          "metadata": {
            "tags": []
          },
          "execution_count": 142
        }
      ]
    },
    {
      "cell_type": "markdown",
      "metadata": {
        "id": "japanese-thought"
      },
      "source": [
        "<h1>Estimation of Points where data changes"
      ],
      "id": "japanese-thought"
    },
    {
      "cell_type": "code",
      "metadata": {
        "id": "thorough-maple"
      },
      "source": [
        "date_change = []\n",
        "adwin = ADWIN()\n",
        "for i in range(0,265):\n",
        "    adwin.add_element(delhi['Confirmed'].iloc[i])\n",
        "    if adwin.detected_change():\n",
        "        date_change.append([delhi['Date'].iloc[i],i])"
      ],
      "id": "thorough-maple",
      "execution_count": null,
      "outputs": []
    },
    {
      "cell_type": "code",
      "metadata": {
        "id": "hydraulic-wrist",
        "outputId": "36b19768-e525-4425-e0f9-22fc36fc51e3"
      },
      "source": [
        "date_change"
      ],
      "id": "hydraulic-wrist",
      "execution_count": null,
      "outputs": [
        {
          "output_type": "execute_result",
          "data": {
            "text/plain": [
              "[['07-11-2020', 31],\n",
              " ['08-12-2020', 63],\n",
              " ['10-15-2020', 127],\n",
              " ['11-16-2020', 159],\n",
              " ['12-18-2020', 191],\n",
              " ['01-19-2021', 223],\n",
              " ['02-20-2021', 255]]"
            ]
          },
          "metadata": {
            "tags": []
          },
          "execution_count": 144
        }
      ]
    },
    {
      "cell_type": "markdown",
      "metadata": {
        "id": "comic-pilot"
      },
      "source": [
        "<h1>Estimation of Gamma</h1>"
      ],
      "id": "comic-pilot"
    },
    {
      "cell_type": "code",
      "metadata": {
        "id": "irish-kennedy"
      },
      "source": [
        "int_d = []\n",
        "r = []\n",
        "for i in range(31,63):\n",
        "    r.append((delhi['Recovered'].iloc[i+5]-delhi['Recovered'].iloc[i])/31181000)\n",
        "    int_d.append(romb(delhi['Active'].iloc[i:i+5]/31181000))"
      ],
      "id": "irish-kennedy",
      "execution_count": null,
      "outputs": []
    },
    {
      "cell_type": "code",
      "metadata": {
        "id": "greenhouse-respect"
      },
      "source": [
        "X = np.array(int_d).reshape(-1,1)\n",
        "y = np.array(r)\n",
        "reg = LinearRegression()\n",
        "reg.set_params(fit_intercept= False)\n",
        "reg.fit(X, y)\n",
        "r_squared = reg.score(X, y)\n",
        "gamma = reg.coef_"
      ],
      "id": "greenhouse-respect",
      "execution_count": null,
      "outputs": []
    },
    {
      "cell_type": "code",
      "metadata": {
        "id": "choice-slovakia",
        "outputId": "578ef2c8-3d02-42aa-89c8-44181e9631db"
      },
      "source": [
        "gamma = np.asscalar(gamma)"
      ],
      "id": "choice-slovakia",
      "execution_count": null,
      "outputs": [
        {
          "output_type": "stream",
          "text": [
            "C:\\Users\\Omen\\anaconda3\\envs\\rstudio\\lib\\site-packages\\ipykernel_launcher.py:1: DeprecationWarning: np.asscalar(a) is deprecated since NumPy v1.16, use a.item() instead\n",
            "  \"\"\"Entry point for launching an IPython kernel.\n"
          ],
          "name": "stderr"
        }
      ]
    },
    {
      "cell_type": "code",
      "metadata": {
        "id": "higher-translation",
        "outputId": "933efb68-4923-4223-f1e9-eaec28ff3258"
      },
      "source": [
        "gamma"
      ],
      "id": "higher-translation",
      "execution_count": null,
      "outputs": [
        {
          "output_type": "execute_result",
          "data": {
            "text/plain": [
              "0.13319919029505942"
            ]
          },
          "metadata": {
            "tags": []
          },
          "execution_count": 148
        }
      ]
    },
    {
      "cell_type": "code",
      "metadata": {
        "id": "confidential-compact"
      },
      "source": [
        "gamma = round(gamma,3)"
      ],
      "id": "confidential-compact",
      "execution_count": null,
      "outputs": []
    },
    {
      "cell_type": "code",
      "metadata": {
        "id": "seasonal-compromise"
      },
      "source": [
        "r_squared = round(r_squared,3)"
      ],
      "id": "seasonal-compromise",
      "execution_count": null,
      "outputs": []
    },
    {
      "cell_type": "markdown",
      "metadata": {
        "id": "requested-heater"
      },
      "source": [
        "<h1>Estimation of total Infected Individuals</h1>"
      ],
      "id": "requested-heater"
    },
    {
      "cell_type": "code",
      "metadata": {
        "id": "second-toilet"
      },
      "source": [
        "id_I = []\n",
        "for i in range(31,63):\n",
        "    id_I.append((delhi['Active'].iloc[i+5]-delhi['Active'].iloc[i])/31181000+0.5*(delhi['Recovered'].iloc[i+5]+delhi['Recovered'].iloc[i])/31181000-0.5*gamma*romb(delhi['Active'].iloc[i:i+5]/31181000))"
      ],
      "id": "second-toilet",
      "execution_count": null,
      "outputs": []
    },
    {
      "cell_type": "code",
      "metadata": {
        "id": "circular-killer"
      },
      "source": [
        "i_d = 0.03"
      ],
      "id": "circular-killer",
      "execution_count": null,
      "outputs": []
    },
    {
      "cell_type": "code",
      "metadata": {
        "id": "featured-expense"
      },
      "source": [
        "for i in range(0,len(id_I)):\n",
        "    id_I[i] = id_I[i]/i_d"
      ],
      "id": "featured-expense",
      "execution_count": null,
      "outputs": []
    },
    {
      "cell_type": "code",
      "metadata": {
        "id": "metropolitan-money"
      },
      "source": [
        "u = []\n",
        "for i in range(0,len(id_I)):\n",
        "    u.append(0.07*id_I[i])"
      ],
      "id": "metropolitan-money",
      "execution_count": null,
      "outputs": []
    },
    {
      "cell_type": "code",
      "metadata": {
        "colab": {
          "base_uri": "https://localhost:8080/",
          "height": 178
        },
        "id": "seeing-implementation",
        "outputId": "00b66cc1-3377-4215-e326-3a841b4cc255"
      },
      "source": [
        "for i in range(5,len(u)):\n",
        "    u[i] = u[i]-u[i-5]"
      ],
      "id": "seeing-implementation",
      "execution_count": null,
      "outputs": [
        {
          "output_type": "error",
          "ename": "NameError",
          "evalue": "ignored",
          "traceback": [
            "\u001b[0;31m---------------------------------------------------------------------------\u001b[0m",
            "\u001b[0;31mNameError\u001b[0m                                 Traceback (most recent call last)",
            "\u001b[0;32m<ipython-input-3-ac1c12998eda>\u001b[0m in \u001b[0;36m<module>\u001b[0;34m()\u001b[0m\n\u001b[0;32m----> 1\u001b[0;31m \u001b[0;32mfor\u001b[0m \u001b[0mi\u001b[0m \u001b[0;32min\u001b[0m \u001b[0mrange\u001b[0m\u001b[0;34m(\u001b[0m\u001b[0;36m5\u001b[0m\u001b[0;34m,\u001b[0m\u001b[0mlen\u001b[0m\u001b[0;34m(\u001b[0m\u001b[0mu\u001b[0m\u001b[0;34m)\u001b[0m\u001b[0;34m)\u001b[0m\u001b[0;34m:\u001b[0m\u001b[0;34m\u001b[0m\u001b[0;34m\u001b[0m\u001b[0m\n\u001b[0m\u001b[1;32m      2\u001b[0m     \u001b[0mu\u001b[0m\u001b[0;34m[\u001b[0m\u001b[0mi\u001b[0m\u001b[0;34m]\u001b[0m \u001b[0;34m=\u001b[0m \u001b[0mu\u001b[0m\u001b[0;34m[\u001b[0m\u001b[0mi\u001b[0m\u001b[0;34m]\u001b[0m\u001b[0;34m-\u001b[0m\u001b[0mu\u001b[0m\u001b[0;34m[\u001b[0m\u001b[0mi\u001b[0m\u001b[0;34m-\u001b[0m\u001b[0;36m5\u001b[0m\u001b[0;34m]\u001b[0m\u001b[0;34m\u001b[0m\u001b[0;34m\u001b[0m\u001b[0m\n",
            "\u001b[0;31mNameError\u001b[0m: name 'u' is not defined"
          ]
        }
      ]
    },
    {
      "cell_type": "code",
      "metadata": {
        "id": "significant-patent",
        "outputId": "dd25db0e-b65d-463e-df58-6ca559f6eba8"
      },
      "source": [
        "u"
      ],
      "id": "significant-patent",
      "execution_count": null,
      "outputs": [
        {
          "output_type": "execute_result",
          "data": {
            "text/plain": [
              "[0.006373670574316982,\n",
              " 0.006571242489787823,\n",
              " 0.006674549833885072,\n",
              " 0.006801363807019233,\n",
              " 0.006969046291960799,\n",
              " 0.0007633236529367956,\n",
              " 0.0006828277578819954,\n",
              " 0.0007231380969179944,\n",
              " 0.0007311274843298443,\n",
              " 0.0007037993866160185,\n",
              " 0.006967554416685375,\n",
              " 0.007132358168495299,\n",
              " 0.0071911779241157076,\n",
              " 0.0074032078706524765,\n",
              " 0.007635598669655191,\n",
              " 0.0015473160932524188,\n",
              " 0.0015456541949216453,\n",
              " 0.0015153447978172845,\n",
              " 0.001430365188439778,\n",
              " 0.0012565153613252143,\n",
              " 0.007442162674800779,\n",
              " 0.007559472541564367,\n",
              " 0.0076987215269982805,\n",
              " 0.007891408898581403,\n",
              " 0.00817297674486006,\n",
              " 0.0020146003242715446,\n",
              " 0.001979226163131155,\n",
              " 0.001920725407566574,\n",
              " 0.0017837053965674733,\n",
              " 0.00160278270314187,\n",
              " 0.007877706488400464,\n",
              " 0.007896001777673255]"
            ]
          },
          "metadata": {
            "tags": []
          },
          "execution_count": 352
        }
      ]
    },
    {
      "cell_type": "code",
      "metadata": {
        "id": "humanitarian-rouge",
        "outputId": "fb5a729b-adb8-4e87-e3e6-78b7ccc4ea52"
      },
      "source": [
        "plt.plot(range(31,63),u)\n",
        "plt.plot(range(31,63),delhi['Active'].iloc[31:63]/31181000)\n",
        "plt.plot(range(31,63),id_I)\n",
        "plt.yscale('log')"
      ],
      "id": "humanitarian-rouge",
      "execution_count": null,
      "outputs": [
        {
          "output_type": "display_data",
          "data": {
            "image/png": "[encoded data removed]",
            "text/plain": [
              "<Figure size 432x288 with 1 Axes>"
            ]
          },
          "metadata": {
            "tags": [],
            "needs_background": "light"
          }
        }
      ]
    },
    {
      "cell_type": "code",
      "metadata": {
        "id": "iraqi-brazil"
      },
      "source": [
        "ru = []\n",
        "for i in range(0,len(id_I)):\n",
        "    ru.append(0.07*gamma*id_I[i])"
      ],
      "id": "iraqi-brazil",
      "execution_count": null,
      "outputs": []
    },
    {
      "cell_type": "code",
      "metadata": {
        "id": "collectible-tuesday"
      },
      "source": [
        "R = []\n",
        "for i in range(0,len(id_I)):\n",
        "    R.append(ru[i]+r[i])"
      ],
      "id": "collectible-tuesday",
      "execution_count": null,
      "outputs": []
    },
    {
      "cell_type": "code",
      "metadata": {
        "id": "personalized-compiler"
      },
      "source": [
        "S = []\n",
        "for i in range(0,len(id_I)):\n",
        "    S.append(1-R[i]-id_I[i])"
      ],
      "id": "personalized-compiler",
      "execution_count": null,
      "outputs": []
    },
    {
      "cell_type": "code",
      "metadata": {
        "id": "frank-salad",
        "outputId": "81b4e34f-367c-446a-e5d5-152d05067bef"
      },
      "source": [
        "plt.plot(range(31,63),S)\n",
        "plt.plot(range(31,63),id_I)\n",
        "plt.plot(range(31,63),R)\n",
        "plt.yscale('log')"
      ],
      "id": "frank-salad",
      "execution_count": null,
      "outputs": [
        {
          "output_type": "display_data",
          "data": {
            "image/png": "[encoded data removed]",
            "text/plain": [
              "<Figure size 432x288 with 1 Axes>"
            ]
          },
          "metadata": {
            "tags": [],
            "needs_background": "light"
          }
        }
      ]
    }
  ]
}