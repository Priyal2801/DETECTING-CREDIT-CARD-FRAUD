{
  "nbformat": 4,
  "nbformat_minor": 5,
  "metadata": {
    "kernelspec": {
      "display_name": "Python 3",
      "language": "python",
      "name": "python3"
    },
    "language_info": {
      "codemirror_mode": {
        "name": "ipython",
        "version": 3
      },
      "file_extension": ".py",
      "mimetype": "text/x-python",
      "name": "python",
      "nbconvert_exporter": "python",
      "pygments_lexer": "ipython3",
      "version": "3.7.1"
    },
    "colab": {
      "name": "Final Code .ipynb",
      "provenance": []
    }
  },
  "cells": [
    {
      "cell_type": "markdown",
      "metadata": {
        "id": "environmental-attitude"
      },
      "source": [
        "<h1> Importing Libraries </h1>"
      ],
      "id": "environmental-attitude"
    },
    {
      "cell_type": "code",
      "metadata": {
        "colab": {
          "base_uri": "https://localhost:8080/",
          "height": 363
        },
        "id": "endless-bible",
        "outputId": "67120a33-eea6-4b3c-b1b0-1e5b1c62e197"
      },
      "source": [
        "import pandas as pd\n",
        "from skmultiflow.drift_detection.adwin import ADWIN\n",
        "import matplotlib.pyplot as plt\n",
        "%matplotlib inline\n",
        "import numpy as np\n",
        "from scipy.integrate import odeint\n",
        "import lmfit\n",
        "import warnings\n",
        "warnings.filterwarnings('ignore')"
      ],
      "id": "endless-bible",
      "execution_count": null,
      "outputs": [
        {
          "output_type": "error",
          "ename": "ModuleNotFoundError",
          "evalue": "ignored",
          "traceback": [
            "\u001b[0;31m---------------------------------------------------------------------------\u001b[0m",
            "\u001b[0;31mModuleNotFoundError\u001b[0m                       Traceback (most recent call last)",
            "\u001b[0;32m<ipython-input-6-b1800661e9e9>\u001b[0m in \u001b[0;36m<module>\u001b[0;34m()\u001b[0m\n\u001b[1;32m      1\u001b[0m \u001b[0;32mimport\u001b[0m \u001b[0mpandas\u001b[0m \u001b[0;32mas\u001b[0m \u001b[0mpd\u001b[0m\u001b[0;34m\u001b[0m\u001b[0;34m\u001b[0m\u001b[0m\n\u001b[0;32m----> 2\u001b[0;31m \u001b[0;32mfrom\u001b[0m \u001b[0mskmultiflow\u001b[0m\u001b[0;34m.\u001b[0m\u001b[0mdrift_detection\u001b[0m\u001b[0;34m.\u001b[0m\u001b[0madwin\u001b[0m \u001b[0;32mimport\u001b[0m \u001b[0mADWIN\u001b[0m\u001b[0;34m\u001b[0m\u001b[0;34m\u001b[0m\u001b[0m\n\u001b[0m\u001b[1;32m      3\u001b[0m \u001b[0;32mimport\u001b[0m \u001b[0mmatplotlib\u001b[0m\u001b[0;34m.\u001b[0m\u001b[0mpyplot\u001b[0m \u001b[0;32mas\u001b[0m \u001b[0mplt\u001b[0m\u001b[0;34m\u001b[0m\u001b[0;34m\u001b[0m\u001b[0m\n\u001b[1;32m      4\u001b[0m \u001b[0mget_ipython\u001b[0m\u001b[0;34m(\u001b[0m\u001b[0;34m)\u001b[0m\u001b[0;34m.\u001b[0m\u001b[0mmagic\u001b[0m\u001b[0;34m(\u001b[0m\u001b[0;34m'matplotlib inline'\u001b[0m\u001b[0;34m)\u001b[0m\u001b[0;34m\u001b[0m\u001b[0;34m\u001b[0m\u001b[0m\n\u001b[1;32m      5\u001b[0m \u001b[0;32mimport\u001b[0m \u001b[0mnumpy\u001b[0m \u001b[0;32mas\u001b[0m \u001b[0mnp\u001b[0m\u001b[0;34m\u001b[0m\u001b[0;34m\u001b[0m\u001b[0m\n",
            "\u001b[0;31mModuleNotFoundError\u001b[0m: No module named 'skmultiflow'",
            "",
            "\u001b[0;31m---------------------------------------------------------------------------\u001b[0;32m\nNOTE: If your import is failing due to a missing package, you can\nmanually install dependencies using either !pip or !apt.\n\nTo view examples of installing some common dependencies, click the\n\"Open Examples\" button below.\n\u001b[0;31m---------------------------------------------------------------------------\u001b[0m\n"
          ]
        }
      ]
    },
    {
      "cell_type": "markdown",
      "metadata": {
        "id": "alert-poultry"
      },
      "source": [
        "<h1> Downloading Data and Creating Dataset</h1>"
      ],
      "id": "alert-poultry"
    },
    {
      "cell_type": "code",
      "metadata": {
        "id": "coastal-coach"
      },
      "source": [
        "Confirmed_detected = pd.read_csv('covid_confirmed.csv')\n",
        "Recovered_detected = pd.read_csv('covid_recovered.csv')\n",
        "Deaths_detected = pd.read_csv('covid_death.csv')"
      ],
      "id": "coastal-coach",
      "execution_count": null,
      "outputs": []
    },
    {
      "cell_type": "code",
      "metadata": {
        "id": "twelve-carnival",
        "outputId": "91b64798-5985-4166-b45e-d3585fa4ddd4"
      },
      "source": [
        "# visualising the data\n",
        "Confirmed_detected.head()"
      ],
      "id": "twelve-carnival",
      "execution_count": null,
      "outputs": [
        {
          "output_type": "execute_result",
          "data": {
            "text/html": [
              "<div>\n",
              "<style scoped>\n",
              "    .dataframe tbody tr th:only-of-type {\n",
              "        vertical-align: middle;\n",
              "    }\n",
              "\n",
              "    .dataframe tbody tr th {\n",
              "        vertical-align: top;\n",
              "    }\n",
              "\n",
              "    .dataframe thead th {\n",
              "        text-align: right;\n",
              "    }\n",
              "</style>\n",
              "<table border=\"1\" class=\"dataframe\">\n",
              "  <thead>\n",
              "    <tr style=\"text-align: right;\">\n",
              "      <th></th>\n",
              "      <th>Province/State</th>\n",
              "      <th>Country/Region</th>\n",
              "      <th>Lat</th>\n",
              "      <th>Long</th>\n",
              "      <th>1/22/20</th>\n",
              "      <th>1/23/20</th>\n",
              "      <th>1/24/20</th>\n",
              "      <th>1/25/20</th>\n",
              "      <th>1/26/20</th>\n",
              "      <th>1/27/20</th>\n",
              "      <th>...</th>\n",
              "      <th>4/15/21</th>\n",
              "      <th>4/16/21</th>\n",
              "      <th>4/17/21</th>\n",
              "      <th>4/18/21</th>\n",
              "      <th>4/19/21</th>\n",
              "      <th>4/20/21</th>\n",
              "      <th>4/21/21</th>\n",
              "      <th>4/22/21</th>\n",
              "      <th>4/23/21</th>\n",
              "      <th>4/24/21</th>\n",
              "    </tr>\n",
              "  </thead>\n",
              "  <tbody>\n",
              "    <tr>\n",
              "      <th>0</th>\n",
              "      <td>NaN</td>\n",
              "      <td>Afghanistan</td>\n",
              "      <td>33.93911</td>\n",
              "      <td>67.709953</td>\n",
              "      <td>0</td>\n",
              "      <td>0</td>\n",
              "      <td>0</td>\n",
              "      <td>0</td>\n",
              "      <td>0</td>\n",
              "      <td>0</td>\n",
              "      <td>...</td>\n",
              "      <td>57534</td>\n",
              "      <td>57612</td>\n",
              "      <td>57721</td>\n",
              "      <td>57793</td>\n",
              "      <td>57898</td>\n",
              "      <td>58037</td>\n",
              "      <td>58214</td>\n",
              "      <td>58312</td>\n",
              "      <td>58542</td>\n",
              "      <td>58730</td>\n",
              "    </tr>\n",
              "    <tr>\n",
              "      <th>1</th>\n",
              "      <td>NaN</td>\n",
              "      <td>Albania</td>\n",
              "      <td>41.15330</td>\n",
              "      <td>20.168300</td>\n",
              "      <td>0</td>\n",
              "      <td>0</td>\n",
              "      <td>0</td>\n",
              "      <td>0</td>\n",
              "      <td>0</td>\n",
              "      <td>0</td>\n",
              "      <td>...</td>\n",
              "      <td>129128</td>\n",
              "      <td>129307</td>\n",
              "      <td>129456</td>\n",
              "      <td>129594</td>\n",
              "      <td>129694</td>\n",
              "      <td>129842</td>\n",
              "      <td>129980</td>\n",
              "      <td>130114</td>\n",
              "      <td>130270</td>\n",
              "      <td>130409</td>\n",
              "    </tr>\n",
              "    <tr>\n",
              "      <th>2</th>\n",
              "      <td>NaN</td>\n",
              "      <td>Algeria</td>\n",
              "      <td>28.03390</td>\n",
              "      <td>1.659600</td>\n",
              "      <td>0</td>\n",
              "      <td>0</td>\n",
              "      <td>0</td>\n",
              "      <td>0</td>\n",
              "      <td>0</td>\n",
              "      <td>0</td>\n",
              "      <td>...</td>\n",
              "      <td>119142</td>\n",
              "      <td>119323</td>\n",
              "      <td>119486</td>\n",
              "      <td>119642</td>\n",
              "      <td>119805</td>\n",
              "      <td>119992</td>\n",
              "      <td>120174</td>\n",
              "      <td>120363</td>\n",
              "      <td>120562</td>\n",
              "      <td>120736</td>\n",
              "    </tr>\n",
              "    <tr>\n",
              "      <th>3</th>\n",
              "      <td>NaN</td>\n",
              "      <td>Andorra</td>\n",
              "      <td>42.50630</td>\n",
              "      <td>1.521800</td>\n",
              "      <td>0</td>\n",
              "      <td>0</td>\n",
              "      <td>0</td>\n",
              "      <td>0</td>\n",
              "      <td>0</td>\n",
              "      <td>0</td>\n",
              "      <td>...</td>\n",
              "      <td>12641</td>\n",
              "      <td>12712</td>\n",
              "      <td>12771</td>\n",
              "      <td>12805</td>\n",
              "      <td>12805</td>\n",
              "      <td>12874</td>\n",
              "      <td>12917</td>\n",
              "      <td>12942</td>\n",
              "      <td>13007</td>\n",
              "      <td>13024</td>\n",
              "    </tr>\n",
              "    <tr>\n",
              "      <th>4</th>\n",
              "      <td>NaN</td>\n",
              "      <td>Angola</td>\n",
              "      <td>-11.20270</td>\n",
              "      <td>17.873900</td>\n",
              "      <td>0</td>\n",
              "      <td>0</td>\n",
              "      <td>0</td>\n",
              "      <td>0</td>\n",
              "      <td>0</td>\n",
              "      <td>0</td>\n",
              "      <td>...</td>\n",
              "      <td>23951</td>\n",
              "      <td>24122</td>\n",
              "      <td>24300</td>\n",
              "      <td>24389</td>\n",
              "      <td>24518</td>\n",
              "      <td>24661</td>\n",
              "      <td>24883</td>\n",
              "      <td>25051</td>\n",
              "      <td>25279</td>\n",
              "      <td>25492</td>\n",
              "    </tr>\n",
              "  </tbody>\n",
              "</table>\n",
              "<p>5 rows × 463 columns</p>\n",
              "</div>"
            ],
            "text/plain": [
              "  Province/State Country/Region       Lat       Long  1/22/20  1/23/20  \\\n",
              "0            NaN    Afghanistan  33.93911  67.709953        0        0   \n",
              "1            NaN        Albania  41.15330  20.168300        0        0   \n",
              "2            NaN        Algeria  28.03390   1.659600        0        0   \n",
              "3            NaN        Andorra  42.50630   1.521800        0        0   \n",
              "4            NaN         Angola -11.20270  17.873900        0        0   \n",
              "\n",
              "   1/24/20  1/25/20  1/26/20  1/27/20  ...  4/15/21  4/16/21  4/17/21  \\\n",
              "0        0        0        0        0  ...    57534    57612    57721   \n",
              "1        0        0        0        0  ...   129128   129307   129456   \n",
              "2        0        0        0        0  ...   119142   119323   119486   \n",
              "3        0        0        0        0  ...    12641    12712    12771   \n",
              "4        0        0        0        0  ...    23951    24122    24300   \n",
              "\n",
              "   4/18/21  4/19/21  4/20/21  4/21/21  4/22/21  4/23/21  4/24/21  \n",
              "0    57793    57898    58037    58214    58312    58542    58730  \n",
              "1   129594   129694   129842   129980   130114   130270   130409  \n",
              "2   119642   119805   119992   120174   120363   120562   120736  \n",
              "3    12805    12805    12874    12917    12942    13007    13024  \n",
              "4    24389    24518    24661    24883    25051    25279    25492  \n",
              "\n",
              "[5 rows x 463 columns]"
            ]
          },
          "metadata": {
            "tags": []
          },
          "execution_count": 627
        }
      ]
    },
    {
      "cell_type": "code",
      "metadata": {
        "id": "lined-light"
      },
      "source": [
        "del Confirmed_detected['Province/State']\n",
        "del Confirmed_detected['Long']\n",
        "del Confirmed_detected['Lat']"
      ],
      "id": "lined-light",
      "execution_count": null,
      "outputs": []
    },
    {
      "cell_type": "code",
      "metadata": {
        "id": "popular-liberty"
      },
      "source": [
        "Confirmed_detected = Confirmed_detected[Confirmed_detected['Country/Region']=='India']"
      ],
      "id": "popular-liberty",
      "execution_count": null,
      "outputs": []
    },
    {
      "cell_type": "code",
      "metadata": {
        "id": "furnished-intake"
      },
      "source": [
        "p = Confirmed_detected.columns"
      ],
      "id": "furnished-intake",
      "execution_count": null,
      "outputs": []
    },
    {
      "cell_type": "code",
      "metadata": {
        "id": "fitting-compilation",
        "outputId": "91f3e543-f310-48c0-85a6-d847e6617c0e"
      },
      "source": [
        "plt.grid(color = 'red', linestyle = '--', linewidth = 0.1)\n",
        "plt.bar(p[1:460],Confirmed_detected.iloc[0,1:460],color = 'lightblue')\n",
        "plt.plot(p[1:460],Confirmed_detected.iloc[0, 1:460], color = 'darkblue')\n",
        "plt.title('Total Detected Cases')\n",
        "plt.xticks(np.arange(0,460,20),rotation = 90)\n",
        "plt.ticklabel_format(style = 'plain', axis = 'y')"
      ],
      "id": "fitting-compilation",
      "execution_count": null,
      "outputs": [
        {
          "output_type": "display_data",
          "data": {
            "image/png": "[encoded data removed]",
            "text/plain": [
              "<Figure size 432x288 with 1 Axes>"
            ]
          },
          "metadata": {
            "tags": [],
            "needs_background": "light"
          }
        }
      ]
    },
    {
      "cell_type": "code",
      "metadata": {
        "id": "deadly-poverty"
      },
      "source": [
        "Recovered_detected = Recovered_detected[Recovered_detected['Country/Region']=='India']\n",
        "Deaths_detected = Deaths_detected[Deaths_detected['Country/Region']=='India']"
      ],
      "id": "deadly-poverty",
      "execution_count": null,
      "outputs": []
    },
    {
      "cell_type": "code",
      "metadata": {
        "id": "established-belize"
      },
      "source": [
        "del Recovered_detected['Province/State']\n",
        "del Recovered_detected['Long']\n",
        "del Recovered_detected['Lat']\n",
        "del Deaths_detected['Province/State']\n",
        "del Deaths_detected['Long']\n",
        "del Deaths_detected['Lat']"
      ],
      "id": "established-belize",
      "execution_count": null,
      "outputs": []
    },
    {
      "cell_type": "code",
      "metadata": {
        "id": "invisible-offense"
      },
      "source": [
        "Detected = Confirmed_detected.iloc[0,1:460] - Recovered_detected.iloc[0,1:460] - Deaths_detected.iloc[0,1:460]"
      ],
      "id": "invisible-offense",
      "execution_count": null,
      "outputs": []
    },
    {
      "cell_type": "code",
      "metadata": {
        "id": "naughty-adapter",
        "outputId": "bec4f92a-d002-4123-c438-149c2c8f0d80"
      },
      "source": [
        "plt.grid(color = 'red', linestyle = '--', linewidth = 0.1)\n",
        "plt.bar(range(0,459),Detected,color = 'lightblue')\n",
        "plt.plot(range(0,459),Detected, color = 'darkblue')\n",
        "plt.title('Active Detected Cases')\n",
        "plt.xlabel('Day')\n",
        "plt.ylabel('No. of Active Cases')\n",
        "plt.xticks(np.arange(0,480,20),rotation = 90)\n",
        "plt.ticklabel_format(style = 'plain', axis = 'y')"
      ],
      "id": "naughty-adapter",
      "execution_count": null,
      "outputs": [
        {
          "output_type": "display_data",
          "data": {
            "image/png": "[encoded data removed]",
            "text/plain": [
              "<Figure size 432x288 with 1 Axes>"
            ]
          },
          "metadata": {
            "tags": [],
            "needs_background": "light"
          }
        }
      ]
    },
    {
      "cell_type": "markdown",
      "metadata": {
        "id": "rough-aluminum"
      },
      "source": [
        "<h1> Detecting Changes in Detected Cases</h1>"
      ],
      "id": "rough-aluminum"
    },
    {
      "cell_type": "code",
      "metadata": {
        "id": "flush-difference",
        "outputId": "66fc322a-b86b-4350-f377-688904f96de6"
      },
      "source": [
        "adwin = ADWIN()\n",
        " \n",
        "previous_variance = 0\n",
        "\n",
        "for i in range(len(Detected)):\n",
        "    adwin.add_element(Detected[i])\n",
        "    if adwin.detected_change():\n",
        "        print(\"Change detected in value {}, at index {}\".format(Detected[i], i))\n",
        "        print(\"Current variance: {}. Previous variance {}\".format(adwin.variance, previous_variance))\n",
        "    previous_variance = adwin.variance"
      ],
      "id": "flush-difference",
      "execution_count": null,
      "outputs": [
        {
          "output_type": "stream",
          "text": [
            "Change detected in value 20486, at index 95\n",
            "Current variance: 31144027.84546875. Previous variance 24415475.108476453\n",
            "Change detected in value 89755, at index 127\n",
            "Current variance: 658170362.0485938. Previous variance 537606943.9431255\n",
            "Change detected in value 215125, at index 159\n",
            "Current variance: 3805444688.2064056. Previous variance 3860471442.2412143\n",
            "Change detected in value 565103, at index 191\n",
            "Current variance: 19437678128.17266. Previous variance 20261692407.417774\n",
            "Change detected in value 801282, at index 223\n",
            "Current variance: 44376543194.03922. Previous variance 56720377833.04715\n",
            "Change detected in value 937625, at index 255\n",
            "Current variance: 38931928354.91234. Previous variance 82225607248.34999\n",
            "Change detected in value 527962, at index 287\n",
            "Current variance: 23671379141.388874. Previous variance 32452968817.989567\n",
            "Change detected in value 225449, at index 351\n",
            "Current variance: 17122041963.806067. Previous variance 60367336444.35109\n",
            "Change detected in value 143625, at index 383\n",
            "Current variance: 10265698934.349964. Previous variance 24009963712.228893\n",
            "Change detected in value 202022, at index 415\n",
            "Current variance: 2370025423.4219904. Previous variance 10434576136.97197\n",
            "Change detected in value 1365704, at index 447\n",
            "Current variance: 91071342657.47746. Previous variance 57984215667.66308\n"
          ],
          "name": "stdout"
        }
      ]
    },
    {
      "cell_type": "markdown",
      "metadata": {
        "id": "historical-cause"
      },
      "source": [
        "<h1>Defining Our Model</h1>"
      ],
      "id": "historical-cause"
    },
    {
      "cell_type": "code",
      "metadata": {
        "id": "hungry-teens"
      },
      "source": [
        "def ivp(y,t,R_0_start, k, x0, R_0_end, N, p_I_to_D, p_D_to_C, p_C_to_R,Beds):\n",
        "    \n",
        "    S, E, I, U, D,C, R, Re = y\n",
        "    \n",
        "    def logistic_R_0(t, R_0_start, k, x0, R_0_end):\n",
        "        return (R_0_start-R_0_end) / (1 + np.exp(-k*(-t+x0))) + R_0_end\n",
        "        \n",
        "    def beta(t):\n",
        "        return logistic_R_0(t, R_0_start, k, x0, R_0_end) / 9\n",
        "    \n",
        "    dSdt = -beta(t) * U * S / N\n",
        "    dEdt = beta(t) * U * S / N - (1/3) * E\n",
        "    dIdt = (1/3) * E \n",
        "    dUdt = (1 - p_I_to_D) * dIdt - (1/9) * U \n",
        "    dDdt = p_I_to_D * dIdt - p_D_to_C * (1/12) * D - (1 - p_D_to_C)* (1/9) * D\n",
        "    dCdt = (1/12) * p_D_to_C * D - (1/6.5) * p_C_to_R * min(Beds, C) - max(0, C-Beds) - (1 - p_C_to_R) * (1/7.5) * min(Beds, C)\n",
        "    dRdt = (1/9) * (1 - p_D_to_C) * D + (p_C_to_R) * (1/6.5) * min(Beds, C) + (1/9) * U\n",
        "    dRedt = (1/7.5) * (1 - p_C_to_R) * min(Beds, C) + max(0,C-Beds)\n",
        "    \n",
        "    return dSdt, dEdt, dIdt, dUdt,dDdt,dCdt, dRdt, dRedt"
      ],
      "id": "hungry-teens",
      "execution_count": null,
      "outputs": []
    },
    {
      "cell_type": "code",
      "metadata": {
        "id": "substantial-modeling"
      },
      "source": [
        "def model (days,R_0_start, k, x0, R_0_end,p_I_to_D, p_D_to_C, p_C_to_R ):\n",
        "    N = 10000\n",
        "    Beds = 10 * 0.53\n",
        "    t = np.linspace(0,days-1,days)\n",
        "    y0 = N-1, 1, 0,0,0,0,0,0\n",
        "    sol = odeint(ivp,y0,t,args=(R_0_start, k, x0, R_0_end, N,p_I_to_D, p_D_to_C, p_C_to_R,Beds))\n",
        "    S, E, I, U, D, C, R, Re = sol.T\n",
        "    return S, E, I, U, D, C, R, Re"
      ],
      "id": "substantial-modeling",
      "execution_count": null,
      "outputs": []
    },
    {
      "cell_type": "markdown",
      "metadata": {
        "id": "smaller-england"
      },
      "source": [
        "<h1>Fitting our Model</h1>"
      ],
      "id": "smaller-england"
    },
    {
      "cell_type": "code",
      "metadata": {
        "id": "legislative-milwaukee"
      },
      "source": [
        "#Creating Data\n",
        "ydata = np.array(Detected[0:383],dtype = int)\n",
        "xdata = np.linspace(0,382,383,dtype = int)"
      ],
      "id": "legislative-milwaukee",
      "execution_count": null,
      "outputs": []
    },
    {
      "cell_type": "code",
      "metadata": {
        "id": "serious-hazard"
      },
      "source": [
        "params_init_min_max = {\"R_0_start\": (3.0, 1, 5.0), \"k\": (2.5, 0.01, 5.0), \"x0\": (140, 0, 400), \"R_0_end\": (0.3, 0.1, 1),\n",
        "                       \"pI_to_D\": (0.14,0.1, 0.9), \"pD_to_C\" : (0.10,0.05,0.30), \"pC_to_R\":(0.80,0.50,1)}"
      ],
      "id": "serious-hazard",
      "execution_count": null,
      "outputs": []
    },
    {
      "cell_type": "code",
      "metadata": {
        "id": "electronic-member"
      },
      "source": [
        "def fitter(x, R_0_start, k, x0, R_0_end, pI_to_D, pD_to_C, pC_to_R):\n",
        "    ret = model(383,R_0_start, k, x0, R_0_end, pI_to_D, pD_to_C, pC_to_R)\n",
        "    return ret[4][x]"
      ],
      "id": "electronic-member",
      "execution_count": null,
      "outputs": []
    },
    {
      "cell_type": "code",
      "metadata": {
        "id": "split-chart"
      },
      "source": [
        "mod = lmfit.Model(fitter)\n",
        "for kwarg, (init, mini, maxi) in params_init_min_max.items():\n",
        "    mod.set_param_hint(str(kwarg), value=init, min=mini, max=maxi, vary=True)\n",
        "\n",
        "params = mod.make_params()\n",
        "fit_method = \"leastsq\""
      ],
      "id": "split-chart",
      "execution_count": null,
      "outputs": []
    },
    {
      "cell_type": "code",
      "metadata": {
        "scrolled": false,
        "id": "choice-template"
      },
      "source": [
        "result = mod.fit(ydata, params, method=\"least_squares\", x=xdata)"
      ],
      "id": "choice-template",
      "execution_count": null,
      "outputs": []
    },
    {
      "cell_type": "code",
      "metadata": {
        "id": "purple-violin",
        "outputId": "c4a0e658-ce18-4dd0-9211-f9e9b884df11"
      },
      "source": [
        "result.plot_fit(datafmt=\"-\");"
      ],
      "id": "purple-violin",
      "execution_count": null,
      "outputs": [
        {
          "output_type": "display_data",
          "data": {
            "image/png": "[encoded data removed]",
            "text/plain": [
              "<Figure size 432x288 with 1 Axes>"
            ]
          },
          "metadata": {
            "tags": [],
            "needs_background": "light"
          }
        }
      ]
    },
    {
      "cell_type": "code",
      "metadata": {
        "id": "accompanied-cemetery",
        "outputId": "456cdb14-63f1-4969-cd26-c078a98c3252"
      },
      "source": [
        "result.best_values"
      ],
      "id": "accompanied-cemetery",
      "execution_count": null,
      "outputs": [
        {
          "output_type": "execute_result",
          "data": {
            "text/plain": [
              "{'R_0_start': 3.774825501949151,\n",
              " 'k': 0.018349948673473056,\n",
              " 'x0': 117.55335521641872,\n",
              " 'R_0_end': 0.9211838252935339,\n",
              " 'pI_to_D': 0.14786898823707242,\n",
              " 'pD_to_C': 0.05084162425337291,\n",
              " 'pC_to_R': 0.6165775973417582}"
            ]
          },
          "metadata": {
            "tags": []
          },
          "execution_count": 2061
        }
      ]
    },
    {
      "cell_type": "code",
      "metadata": {
        "id": "humanitarian-whale",
        "outputId": "117e1b00-e555-4212-80f7-f99379141a49"
      },
      "source": [
        "1 - result.residual.var() / np.var(ydata)"
      ],
      "id": "humanitarian-whale",
      "execution_count": null,
      "outputs": [
        {
          "output_type": "execute_result",
          "data": {
            "text/plain": [
              "0.9812982108115544"
            ]
          },
          "metadata": {
            "tags": []
          },
          "execution_count": 2062
        }
      ]
    },
    {
      "cell_type": "code",
      "metadata": {
        "id": "adult-confidence",
        "outputId": "30f9a76e-a4f7-40c4-ff13-0320798d4a6c"
      },
      "source": [
        "1 - result.redchi / np.var(ydata, ddof=2)"
      ],
      "id": "adult-confidence",
      "execution_count": null,
      "outputs": [
        {
          "output_type": "execute_result",
          "data": {
            "text/plain": [
              "0.9803422300726866"
            ]
          },
          "metadata": {
            "tags": []
          },
          "execution_count": 2063
        }
      ]
    },
    {
      "cell_type": "code",
      "metadata": {
        "id": "little-proposal"
      },
      "source": [
        "Susceptible,Exposed,Infected,Undetected,detected,Critical,Recovered,Removed = model(383,3.77,0.018,117.553,0.921,0.147,0.051,0.616)"
      ],
      "id": "little-proposal",
      "execution_count": null,
      "outputs": []
    },
    {
      "cell_type": "code",
      "metadata": {
        "id": "sporting-europe"
      },
      "source": [
        "def logistic_R_0(t, R_0_start, k, x0, R_0_end):\n",
        "        return (R_0_start-R_0_end) / (1 + np.exp(-k*(-t+x0))) + R_0_end"
      ],
      "id": "sporting-europe",
      "execution_count": null,
      "outputs": []
    },
    {
      "cell_type": "code",
      "metadata": {
        "id": "final-desperate",
        "outputId": "37259d75-8352-433c-d7f1-36c2707ffb1e"
      },
      "source": [
        "Susceptible[382]"
      ],
      "id": "final-desperate",
      "execution_count": null,
      "outputs": [
        {
          "output_type": "execute_result",
          "data": {
            "text/plain": [
              "1274040893.3984227"
            ]
          },
          "metadata": {
            "tags": []
          },
          "execution_count": 2081
        }
      ]
    },
    {
      "cell_type": "code",
      "metadata": {
        "id": "ambient-asthma"
      },
      "source": [
        "R0 = logistic_R_0(np.linspace(0,382,383,dtype = int),3.892,0.138,82.779,0.999)"
      ],
      "id": "ambient-asthma",
      "execution_count": null,
      "outputs": []
    },
    {
      "cell_type": "markdown",
      "metadata": {
        "id": "noble-smooth"
      },
      "source": [
        "<h3>For Second Wave</h3>"
      ],
      "id": "noble-smooth"
    },
    {
      "cell_type": "code",
      "metadata": {
        "id": "close-steal"
      },
      "source": [
        "ydata = np.array(Detected[382:460],dtype = int)\n",
        "xdata = np.linspace(0,76,77,dtype = int)"
      ],
      "id": "close-steal",
      "execution_count": null,
      "outputs": []
    },
    {
      "cell_type": "code",
      "metadata": {
        "id": "blind-ultimate"
      },
      "source": [
        "params_init_min_max = {\"R_0_start\": (3.0, 0.1, 5.0), \"k\": (2.5, 0.01, 5.0), \"x0\": (90,0,400), \"R_0_end\": (0.3, 0.1, 1),\n",
        "                       \"pI_to_D\": (0.14,0.01, 0.99), \"pD_to_C\" : (0.1,0.01,0.99), \"pC_to_R\":(0.80,0.50,1)}"
      ],
      "id": "blind-ultimate",
      "execution_count": null,
      "outputs": []
    },
    {
      "cell_type": "code",
      "metadata": {
        "id": "reported-sound"
      },
      "source": [
        "def fitter(x, R_0_start, k, x0, R_0_end, pI_to_D, pD_to_C, pC_to_R):\n",
        "    ret = model(80,R_0_start, k, x0, R_0_end, pI_to_D, pD_to_C, pC_to_R)\n",
        "    return ret[4][x]"
      ],
      "id": "reported-sound",
      "execution_count": null,
      "outputs": []
    },
    {
      "cell_type": "code",
      "metadata": {
        "id": "surgical-laptop"
      },
      "source": [
        "mod = lmfit.Model(fitter)\n",
        "for kwarg, (init, mini, maxi) in params_init_min_max.items():\n",
        "    mod.set_param_hint(str(kwarg), value=init, min=mini, max=maxi, vary=True)\n",
        "\n",
        "params = mod.make_params()\n",
        "fit_method = \"leastsq\""
      ],
      "id": "surgical-laptop",
      "execution_count": null,
      "outputs": []
    },
    {
      "cell_type": "code",
      "metadata": {
        "id": "conditional-simple"
      },
      "source": [
        "result = mod.fit(ydata, params, method=\"least_squares\", x=xdata)"
      ],
      "id": "conditional-simple",
      "execution_count": null,
      "outputs": []
    },
    {
      "cell_type": "code",
      "metadata": {
        "id": "overhead-reporter",
        "outputId": "41b502cb-ef7c-419d-d2af-e8eca2133000"
      },
      "source": [
        "result.plot_fit(datafmt=\"-\");"
      ],
      "id": "overhead-reporter",
      "execution_count": null,
      "outputs": [
        {
          "output_type": "display_data",
          "data": {
            "image/png": "[encoded data removed]",
            "text/plain": [
              "<Figure size 432x288 with 1 Axes>"
            ]
          },
          "metadata": {
            "tags": [],
            "needs_background": "light"
          }
        }
      ]
    },
    {
      "cell_type": "code",
      "metadata": {
        "id": "surprising-yield",
        "outputId": "33efdf0a-3a23-4e1c-d86e-1a9a19e0c5ab"
      },
      "source": [
        "result.best_values"
      ],
      "id": "surprising-yield",
      "execution_count": null,
      "outputs": [
        {
          "output_type": "execute_result",
          "data": {
            "text/plain": [
              "{'R_0_start': 2.1794614049151835,\n",
              " 'k': 1.1252279260502576,\n",
              " 'x0': 297.90339648525486,\n",
              " 'R_0_end': 0.3005379564893568,\n",
              " 'pI_to_D': 0.024518374427299875,\n",
              " 'pD_to_C': 0.9899999999939032,\n",
              " 'pC_to_R': 0.9153398405426052}"
            ]
          },
          "metadata": {
            "tags": []
          },
          "execution_count": 2089
        }
      ]
    },
    {
      "cell_type": "code",
      "metadata": {
        "id": "helpful-venture",
        "outputId": "705bfb86-181c-4547-f82b-18391c457016"
      },
      "source": [
        "1 - result.residual.var() / np.var(ydata)"
      ],
      "id": "helpful-venture",
      "execution_count": null,
      "outputs": [
        {
          "output_type": "execute_result",
          "data": {
            "text/plain": [
              "0.9923490045725392"
            ]
          },
          "metadata": {
            "tags": []
          },
          "execution_count": 2090
        }
      ]
    },
    {
      "cell_type": "code",
      "metadata": {
        "id": "gothic-director"
      },
      "source": [
        "S,E,I,U,D,C,R,Re = model(77,2.179,1.125,297.903,0.301,0.024,0.989,0.915)"
      ],
      "id": "gothic-director",
      "execution_count": null,
      "outputs": []
    },
    {
      "cell_type": "code",
      "metadata": {
        "id": "conditional-adelaide"
      },
      "source": [
        "Susceptible = np.concatenate([Susceptible,S])"
      ],
      "id": "conditional-adelaide",
      "execution_count": null,
      "outputs": []
    },
    {
      "cell_type": "code",
      "metadata": {
        "id": "closing-familiar"
      },
      "source": [
        "Exposed = np.concatenate([Exposed,E])"
      ],
      "id": "closing-familiar",
      "execution_count": null,
      "outputs": []
    },
    {
      "cell_type": "code",
      "metadata": {
        "id": "colonial-september"
      },
      "source": [
        "Infected = np.concatenate([Infected,I])"
      ],
      "id": "colonial-september",
      "execution_count": null,
      "outputs": []
    },
    {
      "cell_type": "code",
      "metadata": {
        "id": "sharp-configuration"
      },
      "source": [
        "Undetected = np.concatenate([Undetected,U])"
      ],
      "id": "sharp-configuration",
      "execution_count": null,
      "outputs": []
    },
    {
      "cell_type": "code",
      "metadata": {
        "id": "broadband-canadian"
      },
      "source": [
        "detected = np.concatenate([detected,D])"
      ],
      "id": "broadband-canadian",
      "execution_count": null,
      "outputs": []
    },
    {
      "cell_type": "code",
      "metadata": {
        "id": "studied-drunk"
      },
      "source": [
        "Critical = np.concatenate([Critical,C])"
      ],
      "id": "studied-drunk",
      "execution_count": null,
      "outputs": []
    },
    {
      "cell_type": "code",
      "metadata": {
        "id": "removable-protein"
      },
      "source": [
        "Recovered = np.concatenate([Recovered,R])"
      ],
      "id": "removable-protein",
      "execution_count": null,
      "outputs": []
    },
    {
      "cell_type": "code",
      "metadata": {
        "id": "casual-software"
      },
      "source": [
        "Removed = np.concatenate([Removed,Re])"
      ],
      "id": "casual-software",
      "execution_count": null,
      "outputs": []
    },
    {
      "cell_type": "code",
      "metadata": {
        "id": "binding-helping"
      },
      "source": [
        "t = np.linspace(0,458,459,dtype=int)"
      ],
      "id": "binding-helping",
      "execution_count": null,
      "outputs": []
    },
    {
      "cell_type": "code",
      "metadata": {
        "id": "blond-barrel",
        "outputId": "26b520f7-dc44-4fda-e107-16d750826737"
      },
      "source": [
        "f, ax = plt.subplots(1,1,figsize=(10,5))\n",
        "#ax.plot(t, Susceptible, 'brown', alpha=0.7, linewidth=2, label='Susceptible')\n",
        "#ax.plot(t, Exposed, 'yellow', alpha=0.7, linewidth=2, label='Exposed')\n",
        "#ax.plot(t, Infected, 'red', alpha=0.7, linewidth=2, label='Infected')\n",
        "#ax.plot(t, Undetected, 'b--', alpha=0.7, linewidth=2, label='Undetected')\n",
        "ax.plot(t, detected[0:459], 'r--', alpha=0.7, linewidth=2, label='Detected')\n",
        "ax.plot(t, Detected, 'blue', alpha=0.7, linewidth=2, label='Critical')\n",
        "#ax.plot(t, Recovered, 'green', alpha=0.7, linewidth=2, label='Recovered')\n",
        "#ax.plot(t, Removed, 'black', alpha=0.7, linewidth=2, label='Dead')"
      ],
      "id": "blond-barrel",
      "execution_count": null,
      "outputs": [
        {
          "output_type": "execute_result",
          "data": {
            "text/plain": [
              "[<matplotlib.lines.Line2D at 0x1cc742a00f0>]"
            ]
          },
          "metadata": {
            "tags": []
          },
          "execution_count": 2119
        },
        {
          "output_type": "display_data",
          "data": {
            "image/png": "[encoded data removed]",
            "text/plain": [
              "<Figure size 720x360 with 1 Axes>"
            ]
          },
          "metadata": {
            "tags": [],
            "needs_background": "light"
          }
        }
      ]
    },
    {
      "cell_type": "code",
      "metadata": {
        "id": "elect-productivity",
        "outputId": "ab0494ed-006d-408c-cd3e-a12ca0283c9f"
      },
      "source": [
        "plt.grid(color = 'red', linestyle = '--', linewidth = 0.1)\n",
        "plt.bar(range(0,459),Detected,color = 'lightblue')\n",
        "plt.plot(range(0,459),detected[0:459], color = 'darkblue')\n",
        "plt.title('Model fitted on daily number of active cases')\n",
        "plt.xlabel('Day')\n",
        "plt.ylabel('No. of Active Cases')\n",
        "plt.xticks(np.arange(0,480,20),rotation = 90)\n",
        "plt.ticklabel_format(style = 'plain', axis = 'y')"
      ],
      "id": "elect-productivity",
      "execution_count": null,
      "outputs": [
        {
          "output_type": "display_data",
          "data": {
            "image/png": "[encoded data removed]",
            "text/plain": [
              "<Figure size 432x288 with 1 Axes>"
            ]
          },
          "metadata": {
            "tags": [],
            "needs_background": "light"
          }
        }
      ]
    },
    {
      "cell_type": "code",
      "metadata": {
        "id": "precious-allah"
      },
      "source": [
        "r0 = logistic_R_0(np.linspace(0,76,77,dtype = int),2.179,1.125,297.90,0.300)"
      ],
      "id": "precious-allah",
      "execution_count": null,
      "outputs": []
    },
    {
      "cell_type": "code",
      "metadata": {
        "id": "improved-sweet"
      },
      "source": [
        "R0 = np.concatenate([R0,r0])"
      ],
      "id": "improved-sweet",
      "execution_count": null,
      "outputs": []
    },
    {
      "cell_type": "code",
      "metadata": {
        "id": "general-title",
        "outputId": "36f53e55-8032-4f7c-e143-9edc5e8b6143"
      },
      "source": [
        "len(R0)"
      ],
      "id": "general-title",
      "execution_count": null,
      "outputs": [
        {
          "output_type": "execute_result",
          "data": {
            "text/plain": [
              "460"
            ]
          },
          "metadata": {
            "tags": []
          },
          "execution_count": 2128
        }
      ]
    },
    {
      "cell_type": "code",
      "metadata": {
        "id": "federal-visibility",
        "outputId": "b4b7b01e-2bee-4ba6-f078-c7df522a2ce0"
      },
      "source": [
        "plt.grid(color = 'red', linestyle = '--', linewidth = 0.1)\n",
        "plt.plot(p[1:460],R0[0:459],color = 'darkblue', linestyle = '--')\n",
        "plt.title('R0 with time')\n",
        "plt.xlabel('Day')\n",
        "plt.ylabel('R0')\n",
        "plt.xticks(np.arange(0,500,20),rotation = 90)\n",
        "plt.ticklabel_format(style = 'plain', axis = 'y')"
      ],
      "id": "federal-visibility",
      "execution_count": null,
      "outputs": [
        {
          "output_type": "display_data",
          "data": {
            "image/png": "[encoded data removed]",
            "text/plain": [
              "<Figure size 432x288 with 1 Axes>"
            ]
          },
          "metadata": {
            "tags": [],
            "needs_background": "light"
          }
        }
      ]
    },
    {
      "cell_type": "markdown",
      "metadata": {
        "id": "accurate-upset"
      },
      "source": [
        "<h2>Prediction for coming days</h2>"
      ],
      "id": "accurate-upset"
    },
    {
      "cell_type": "code",
      "metadata": {
        "id": "acknowledged-summary"
      },
      "source": [
        "import numpy as np"
      ],
      "id": "acknowledged-summary",
      "execution_count": null,
      "outputs": []
    },
    {
      "cell_type": "code",
      "metadata": {
        "colab": {
          "base_uri": "https://localhost:8080/",
          "height": 279
        },
        "id": "vU4LbJQ6cjFv",
        "outputId": "2455c99c-8d24-4b27-b182-790e7b325c35"
      },
      "source": [
        "s, e, i, u, d, c, r, re = model(100,3,0.018,20,0.9,0.14,0.05,0.6)"
      ],
      "id": "vU4LbJQ6cjFv",
      "execution_count": null,
      "outputs": [
        {
          "output_type": "error",
          "ename": "NameError",
          "evalue": "ignored",
          "traceback": [
            "\u001b[0;31m---------------------------------------------------------------------------\u001b[0m",
            "\u001b[0;31mNameError\u001b[0m                                 Traceback (most recent call last)",
            "\u001b[0;32m<ipython-input-5-fb8628b24235>\u001b[0m in \u001b[0;36m<module>\u001b[0;34m()\u001b[0m\n\u001b[0;32m----> 1\u001b[0;31m \u001b[0ms\u001b[0m\u001b[0;34m,\u001b[0m \u001b[0me\u001b[0m\u001b[0;34m,\u001b[0m \u001b[0mi\u001b[0m\u001b[0;34m,\u001b[0m \u001b[0mu\u001b[0m\u001b[0;34m,\u001b[0m \u001b[0md\u001b[0m\u001b[0;34m,\u001b[0m \u001b[0mc\u001b[0m\u001b[0;34m,\u001b[0m \u001b[0mr\u001b[0m\u001b[0;34m,\u001b[0m \u001b[0mre\u001b[0m \u001b[0;34m=\u001b[0m \u001b[0mmodel\u001b[0m\u001b[0;34m(\u001b[0m\u001b[0;36m100\u001b[0m\u001b[0;34m,\u001b[0m\u001b[0;36m3\u001b[0m\u001b[0;34m,\u001b[0m\u001b[0;36m0.018\u001b[0m\u001b[0;34m,\u001b[0m\u001b[0;36m20\u001b[0m\u001b[0;34m,\u001b[0m\u001b[0;36m0.9\u001b[0m\u001b[0;34m,\u001b[0m\u001b[0;36m0.14\u001b[0m\u001b[0;34m,\u001b[0m\u001b[0;36m0.05\u001b[0m\u001b[0;34m,\u001b[0m\u001b[0;36m0.6\u001b[0m\u001b[0;34m)\u001b[0m\u001b[0;34m\u001b[0m\u001b[0;34m\u001b[0m\u001b[0m\n\u001b[0m",
            "\u001b[0;32m<ipython-input-1-fc13d50b4534>\u001b[0m in \u001b[0;36mmodel\u001b[0;34m(days, R_0_start, k, x0, R_0_end, p_I_to_D, p_D_to_C, p_C_to_R)\u001b[0m\n\u001b[1;32m      4\u001b[0m     \u001b[0mt\u001b[0m \u001b[0;34m=\u001b[0m \u001b[0mnp\u001b[0m\u001b[0;34m.\u001b[0m\u001b[0mlinspace\u001b[0m\u001b[0;34m(\u001b[0m\u001b[0;36m0\u001b[0m\u001b[0;34m,\u001b[0m\u001b[0mdays\u001b[0m\u001b[0;34m-\u001b[0m\u001b[0;36m1\u001b[0m\u001b[0;34m,\u001b[0m\u001b[0mdays\u001b[0m\u001b[0;34m)\u001b[0m\u001b[0;34m\u001b[0m\u001b[0;34m\u001b[0m\u001b[0m\n\u001b[1;32m      5\u001b[0m     \u001b[0my0\u001b[0m \u001b[0;34m=\u001b[0m \u001b[0mN\u001b[0m\u001b[0;34m-\u001b[0m\u001b[0;36m1\u001b[0m\u001b[0;34m,\u001b[0m \u001b[0;36m1\u001b[0m\u001b[0;34m,\u001b[0m \u001b[0;36m0\u001b[0m\u001b[0;34m,\u001b[0m\u001b[0;36m0\u001b[0m\u001b[0;34m,\u001b[0m\u001b[0;36m0\u001b[0m\u001b[0;34m,\u001b[0m\u001b[0;36m0\u001b[0m\u001b[0;34m,\u001b[0m\u001b[0;36m0\u001b[0m\u001b[0;34m,\u001b[0m\u001b[0;36m0\u001b[0m\u001b[0;34m\u001b[0m\u001b[0;34m\u001b[0m\u001b[0m\n\u001b[0;32m----> 6\u001b[0;31m     \u001b[0msol\u001b[0m \u001b[0;34m=\u001b[0m \u001b[0modeint\u001b[0m\u001b[0;34m(\u001b[0m\u001b[0mivp\u001b[0m\u001b[0;34m,\u001b[0m\u001b[0my0\u001b[0m\u001b[0;34m,\u001b[0m\u001b[0mt\u001b[0m\u001b[0;34m,\u001b[0m\u001b[0margs\u001b[0m\u001b[0;34m=\u001b[0m\u001b[0;34m(\u001b[0m\u001b[0mR_0_start\u001b[0m\u001b[0;34m,\u001b[0m \u001b[0mk\u001b[0m\u001b[0;34m,\u001b[0m \u001b[0mx0\u001b[0m\u001b[0;34m,\u001b[0m \u001b[0mR_0_end\u001b[0m\u001b[0;34m,\u001b[0m \u001b[0mN\u001b[0m\u001b[0;34m,\u001b[0m\u001b[0mp_I_to_D\u001b[0m\u001b[0;34m,\u001b[0m \u001b[0mp_D_to_C\u001b[0m\u001b[0;34m,\u001b[0m \u001b[0mp_C_to_R\u001b[0m\u001b[0;34m,\u001b[0m\u001b[0mBeds\u001b[0m\u001b[0;34m)\u001b[0m\u001b[0;34m)\u001b[0m\u001b[0;34m\u001b[0m\u001b[0;34m\u001b[0m\u001b[0m\n\u001b[0m\u001b[1;32m      7\u001b[0m     \u001b[0mS\u001b[0m\u001b[0;34m,\u001b[0m \u001b[0mE\u001b[0m\u001b[0;34m,\u001b[0m \u001b[0mI\u001b[0m\u001b[0;34m,\u001b[0m \u001b[0mU\u001b[0m\u001b[0;34m,\u001b[0m \u001b[0mD\u001b[0m\u001b[0;34m,\u001b[0m \u001b[0mC\u001b[0m\u001b[0;34m,\u001b[0m \u001b[0mR\u001b[0m\u001b[0;34m,\u001b[0m \u001b[0mRe\u001b[0m \u001b[0;34m=\u001b[0m \u001b[0msol\u001b[0m\u001b[0;34m.\u001b[0m\u001b[0mT\u001b[0m\u001b[0;34m\u001b[0m\u001b[0;34m\u001b[0m\u001b[0m\n\u001b[1;32m      8\u001b[0m     \u001b[0;32mreturn\u001b[0m \u001b[0mS\u001b[0m\u001b[0;34m,\u001b[0m \u001b[0mE\u001b[0m\u001b[0;34m,\u001b[0m \u001b[0mI\u001b[0m\u001b[0;34m,\u001b[0m \u001b[0mU\u001b[0m\u001b[0;34m,\u001b[0m \u001b[0mD\u001b[0m\u001b[0;34m,\u001b[0m \u001b[0mC\u001b[0m\u001b[0;34m,\u001b[0m \u001b[0mR\u001b[0m\u001b[0;34m,\u001b[0m \u001b[0mRe\u001b[0m\u001b[0;34m\u001b[0m\u001b[0;34m\u001b[0m\u001b[0m\n",
            "\u001b[0;31mNameError\u001b[0m: name 'odeint' is not defined"
          ]
        }
      ]
    },
    {
      "cell_type": "code",
      "metadata": {
        "id": "91gDJ2ZCdTtl"
      },
      "source": [
        "plt.grid(color = 'red', linestyle = '--', linewidth = 0.1)\n",
        "plt.plot(range(0,100),d,color = 'darkblue', linestyle = '--')\n",
        "plt.title('Senstivity of d to pI_to_D')\n",
        "plt.xlabel('Day')\n",
        "plt.ylabel('d')\n",
        "plt.xticks(np.arange(0,500,20),rotation = 90)\n",
        "plt.ticklabel_format(style = 'plain', axis = 'y')"
      ],
      "id": "91gDJ2ZCdTtl",
      "execution_count": null,
      "outputs": []
    }
  ]
}